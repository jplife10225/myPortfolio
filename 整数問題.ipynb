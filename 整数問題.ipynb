{
 "cells": [
  {
   "cell_type": "markdown",
   "metadata": {},
   "source": [
    "標準入力"
   ]
  },
  {
   "cell_type": "code",
   "execution_count": 1,
   "metadata": {},
   "outputs": [],
   "source": [
    "import sys\n",
    "from functools import lru_cache\n",
    "sys.setrecursionlimit(10**9)\n",
    "input = sys.stdin.readline"
   ]
  },
  {
   "cell_type": "markdown",
   "metadata": {},
   "source": [
    "整数問題"
   ]
  },
  {
   "cell_type": "markdown",
   "metadata": {},
   "source": [
    "１．素数判定<br>\n",
    "<br>\n",
    "定理 0.5 (フェルマー (Fermat) の小定理) a を素数 p で割り切れない整数とすれば<br>\n",
    "a^(p-1) ≡ 1 (mod p)\n",
    "が成り立つ."
   ]
  },
  {
   "cell_type": "code",
   "execution_count": 16,
   "metadata": {},
   "outputs": [],
   "source": [
    "##再帰関数\n",
    "import numpy as np\n",
    "\n",
    "\n",
    "@lru_cache(maxsize=500)\n",
    "def primeNumberChecker(p=None, k=24):\n",
    "    primeNumber100 = [2, 3, 5, 7, 11, 13, 17, 19, 23, 29, 31, 37,\n",
    "                      41, 43, 47, 53, 59, 61, 67, 71, 73, 79, 83, 89, 97]\n",
    "    if p == 1:\n",
    "        return False\n",
    "    if k < 1:\n",
    "        return True\n",
    "\n",
    "    else:\n",
    "        if primeNumber100[k] == p:\n",
    "            return True\n",
    "        elif (primeNumber100[k]**(p-1)) % p == 1 % p:\n",
    "            return primeNumberChecker(k=k-1, p=p)\n",
    "        else:\n",
    "            return False"
   ]
  },
  {
   "cell_type": "code",
   "execution_count": 3,
   "metadata": {},
   "outputs": [],
   "source": [
    "#精度は（１ー０．５^ｋ）らしいです\n",
    "from collections import deque\n",
    "@lru_cache(maxsize=500)\n",
    "def primeNumberCheckList(num=None,ls=deque()):\n",
    "    if num<2:\n",
    "        return list(ls)\n",
    "    if primeNumberChecker(p=num,k=10)==True:\n",
    "        ls.append(num)\n",
    "    return primeNumberCheckList(num=num-1)    "
   ]
  },
  {
   "cell_type": "code",
   "execution_count": 13,
   "metadata": {},
   "outputs": [
    {
     "name": "stdout",
     "output_type": "stream",
     "text": [
      "accurancy: 100.0%\n"
     ]
    }
   ],
   "source": [
    "# Total number of prime numbers (1 to 1000) = 168\n",
    "primeNumberSet = {2, 3, 5, 7, 11, 13, 17, 19, 23, 29, 31, 37, 41, 43, 47, 53, 59, 61, 67, 71, 73, 79, 83, 89, 97, 101, 103, 107, 109, 113, 127, 131, 137, 139, 149, 151, 157, 163, 167, 173, 179, 181, 191, 193, 197, 199, 211, 223, 227, 229, 233, 239, 241, 251, 257, 263, 269, 271, 277, 281, 283, 293, 307, 311, 313, 317, 331, 337, 347, 349, 353, 359, 367, 373, 379, 383, 389, 397, 401, 409, 419, 421, 431, 433, 439,\n",
    "                  443, 449, 457, 461, 463, 467, 479, 487, 491, 499, 503, 509, 521, 523, 541, 547, 557, 563, 569, 571, 577, 587, 593, 599, 601, 607, 613, 617, 619, 631, 641, 643, 647, 653, 659, 661, 673, 677, 683, 691, 701, 709, 719, 727, 733, 739, 743, 751, 757, 761, 769, 773, 787, 797, 809, 811, 821, 823, 827, 829, 839, 853, 857, 859, 863, 877, 881, 883, 887, 907, 911, 919, 929, 937, 941, 947, 953, 967, 971, 977, 983, 991, 997}\n",
    "check_list=primeNumberCheckList(1000)\n",
    "counter=0\n",
    "for num in check_list:\n",
    "    if num in primeNumberSet:\n",
    "        counter+=1\n",
    "#len primeNumberSet within 1000 is 168\n",
    "print(f\"accurancy: {(counter/168)*100}%\")"
   ]
  },
  {
   "cell_type": "markdown",
   "metadata": {},
   "source": [
    "「フェルマーの最終定理」<br>\n",
    "Nは奇数、N =( x + y )( x - y )の条件を満たすx,yを探す<br>\n",
    "\n",
    "<br>\n",
    "x, y を見つけるために、以下のようなアルゴリズムを使用します。<br>\n",
    "<br>\n",
    "1.√N 以上の最小の整数で x を初期化する。<br>\n",
    "2.1 で y を初期化する。<br>\n",
    "3.x2 - y2 を求める。<br>\n",
    "4.x2 - y2 が N より大きいときは y を 1 増やして 3 に戻る。<br>\n",
    "5.x2 - y2 が N より小さくなったら x を 1 増やして 2 に戻る。<br>\n",
    "6.x2 - y2 = N となったので終了。<br>"
   ]
  },
  {
   "cell_type": "code",
   "execution_count": 2,
   "metadata": {},
   "outputs": [],
   "source": [
    "# 「フェルマーの最終定理」\n",
    "import math\n",
    "from collections import deque\n",
    "import sys\n",
    "from functools import lru_cache\n",
    "sys.setrecursionlimit(10**9)\n",
    "num = 234545\n",
    "\n",
    "\n",
    "@lru_cache(maxsize=None)\n",
    "def numberDivBy2(num=num, dq2=deque()):\n",
    "    if num % 2 != 0:\n",
    "        return list(dq2)\n",
    "    if num % 2 == 0:\n",
    "        dq2.append(2)\n",
    "        return numberDivBy2(num=num/2)\n",
    "\n",
    "\n",
    "@lru_cache(maxsize=None)\n",
    "def numberDivBy3(num=num, dq3=deque()):\n",
    "    if num % 3 != 0:\n",
    "        return list(dq3)\n",
    "    if num % 3 == 0:\n",
    "        dq3.append(3)\n",
    "        return numberDivBy3(num=num/3)\n",
    "\n",
    "\n",
    "@lru_cache(maxsize=None)\n",
    "def numberDivBy5(num=num, dq5=deque()):\n",
    "    if num % 5 != 0:\n",
    "        return list(dq5)\n",
    "    if num % 5 == 0:\n",
    "        dq5.append(5)\n",
    "        return numberDivBy5(num=num/5)\n",
    "\n",
    "\n",
    "@lru_cache(maxsize=None)\n",
    "def numberDivBy7(num=num, dq7=deque()):\n",
    "    if num % 7 != 0:\n",
    "        return list(dq7)\n",
    "    if num % 7 == 0:\n",
    "        dq7.append(7)\n",
    "        return numberDivBy7(num=num/7)\n",
    "\n",
    "\n",
    "@lru_cache(maxsize=None)\n",
    "def numberDivBy11(num=num, dq7=deque()):\n",
    "    if num % 11 != 0:\n",
    "        return list(dq7)\n",
    "    if num % 11 == 0:\n",
    "        dq7.append(11)\n",
    "        return numberDivBy11(num=num/11)\n",
    "\n",
    "\n",
    "@lru_cache(maxsize=None)\n",
    "def numberDivBy13(num=num, dq7=deque()):\n",
    "    if num % 13 != 0:\n",
    "        return list(dq7)\n",
    "    if num % 13 == 0:\n",
    "        dq7.append(13)\n",
    "        return numberDivBy11(num=num/13)\n",
    "    \n",
    "@lru_cache(maxsize=None)\n",
    "def numberBunkai(num=num, dq=deque(), x=int(math.ceil(math.sqrt(num))), y=1):\n",
    "    if (x**2)-(y**2) == num:\n",
    "        dq.append(x+y)\n",
    "        dq.append(x-y)\n",
    "        return list(dq)\n",
    "    if num % 2 == 0:\n",
    "        dq.append(2)\n",
    "        return numberBunkai(num=int(num/2), x=int(math.ceil(math.sqrt(num))))\n",
    "    if (x**2)-(y**2) > num:\n",
    "        return numberBunkai(num=num, x=x, y=y+1)\n",
    "    if (x**2)-(y**2) < num:\n",
    "        return numberBunkai(num=num, x=x+1, y=1)\n",
    "\n",
    "\n",
    "\n"
   ]
  },
  {
   "cell_type": "code",
   "execution_count": null,
   "metadata": {},
   "outputs": [],
   "source": [
    "import math\n",
    "from collections import deque\n",
    "num:int=321442342421\n",
    "x=int(math.ceil(math.sqrt(num)))\n",
    "y=1\n",
    "dq=deque()\n",
    "while True:\n",
    "    if (x**2)-(y**2) == num:\n",
    "        dq.append(x+y)\n",
    "        dq.append(x-y)\n",
    "        break\n",
    "    if num % 2 == 0:\n",
    "        dq.append(2)\n",
    "        num=int(num/2)\n",
    "    if (x**2)-(y**2) > num:\n",
    "        y+=1\n",
    "    if (x**2)-(y**2) < num:\n",
    "        x+=1\n",
    "        y=1"
   ]
  },
  {
   "cell_type": "code",
   "execution_count": 4,
   "metadata": {},
   "outputs": [
    {
     "data": {
      "text/plain": [
       "deque([407, 273])"
      ]
     },
     "execution_count": 4,
     "metadata": {},
     "output_type": "execute_result"
    }
   ],
   "source": [
    "dq"
   ]
  },
  {
   "cell_type": "code",
   "execution_count": null,
   "metadata": {},
   "outputs": [],
   "source": [
    "num = int(num/(2**(len(numberDivBy2()))))\n",
    "num = int(num/(3**(len(numberDivBy3()))))\n",
    "num = int(num/(5**(len(numberDivBy5()))))\n",
    "num = int(num/(7**(len(numberDivBy7()))))\n",
    "num = int(num/(11**(len(numberDivBy11()))))\n",
    "num = int(num/(13**(len(numberDivBy13()))))"
   ]
  },
  {
   "cell_type": "code",
   "execution_count": 2,
   "metadata": {},
   "outputs": [
    {
     "ename": "SyntaxError",
     "evalue": "invalid syntax (<ipython-input-2-00ba276fc49a>, line 5)",
     "output_type": "error",
     "traceback": [
      "\u001b[1;36m  File \u001b[1;32m\"<ipython-input-2-00ba276fc49a>\"\u001b[1;36m, line \u001b[1;32m5\u001b[0m\n\u001b[1;33m    from libc.math cimport sqrt\u001b[0m\n\u001b[1;37m                   ^\u001b[0m\n\u001b[1;31mSyntaxError\u001b[0m\u001b[1;31m:\u001b[0m invalid syntax\n"
     ]
    }
   ],
   "source": [
    "%load_ext Cython\n",
    "\n",
    "\n",
    "%%cython\n",
    "\n",
    "from libc.math cimport sqrt\n",
    "from libc.math cimport ceil\n",
    "import numpy as np \n",
    "cimport numpy as cnp\n",
    "cdef double[:] dq\n",
    "cdef double num = 133.0\n",
    "cdef double x = ceil(sqrt(num))\n",
    "cdef double y = 1.0\n",
    "while True:\n",
    "    if (x*x)-(y*y) == num:\n",
    "        dq.append(x+y)\n",
    "        dq.append(x-y)\n",
    "        break\n",
    "    if num % 2 == 0:\n",
    "        dq.append(2)\n",
    "        num=num/2\n",
    "    if (x*x)-(y*x) > num:\n",
    "        y+=1\n",
    "    if (x**2)-(y**2) < num:\n",
    "        x+=1\n",
    "        y=1"
   ]
  },
  {
   "cell_type": "code",
   "execution_count": 20,
   "metadata": {},
   "outputs": [
    {
     "data": {
      "text/plain": [
       "8"
      ]
     },
     "execution_count": 20,
     "metadata": {},
     "output_type": "execute_result"
    }
   ],
   "source": [
    "(1<<3)&1000"
   ]
  },
  {
   "cell_type": "code",
   "execution_count": 9,
   "metadata": {},
   "outputs": [
    {
     "data": {
      "text/plain": [
       "8"
      ]
     },
     "execution_count": 9,
     "metadata": {},
     "output_type": "execute_result"
    }
   ],
   "source": [
    "(1<<3)&1100"
   ]
  },
  {
   "cell_type": "code",
   "execution_count": 23,
   "metadata": {},
   "outputs": [
    {
     "name": "stdout",
     "output_type": "stream",
     "text": [
      "0b0\n",
      "0b1\n",
      "0b10\n",
      "0b11\n",
      "0b100\n",
      "0b101\n",
      "0b110\n",
      "0b111\n",
      "0b1000\n",
      "0b1001\n",
      "0b1010\n",
      "0b1011\n",
      "0b1100\n",
      "0b1101\n",
      "0b1110\n",
      "0b1111\n",
      "0b10000\n",
      "0b10001\n",
      "0b10010\n",
      "0b10011\n",
      "0b10100\n",
      "0b10101\n",
      "0b10110\n",
      "0b10111\n",
      "0b11000\n",
      "0b11001\n",
      "0b11010\n",
      "0b11011\n",
      "0b11100\n",
      "0b11101\n",
      "0b11110\n",
      "0b11111\n"
     ]
    }
   ],
   "source": [
    "for i in range(1<<5):\n",
    "    print(bin(i))"
   ]
  },
  {
   "cell_type": "code",
   "execution_count": 64,
   "metadata": {},
   "outputs": [
    {
     "name": "stdout",
     "output_type": "stream",
     "text": [
      "19\n"
     ]
    }
   ],
   "source": [
    "import sys\n",
    "from functools import lru_cache\n",
    "from collections import deque\n",
    "sys.setrecursionlimit(10**9)\n",
    "#input = sys.stdin.readline\n",
    "#m, n = map(int, str(input()).split())\n",
    "m = 7\n",
    "n = 5\n",
    "struc = [0b10101, 0b00001, 0b00110, 0b11110, 0b00100, 0b11111, 0b10000]\n",
    "counterSum = 0\n",
    "\n",
    "\n",
    "def countSetBits(n):\n",
    "    count = 0\n",
    "    while (n):\n",
    "        count += n & 1\n",
    "        n >>= 1\n",
    "    return count\n",
    "\n",
    "\n",
    "for i in range(1 << 5):\n",
    "    counter = 0\n",
    "    for number in range(len(struc)-1):\n",
    "        count1 = i & struc[number]\n",
    "        count2 = i & struc[number+1]\n",
    "        if countSetBits(count1) == countSetBits(count2):\n",
    "            counterSum += 1\n",
    "            break\n",
    "        else:\n",
    "            pass\n",
    "print(counterSum)"
   ]
  },
  {
   "cell_type": "code",
   "execution_count": 35,
   "metadata": {},
   "outputs": [
    {
     "data": {
      "text/plain": [
       "False"
      ]
     },
     "execution_count": 35,
     "metadata": {},
     "output_type": "execute_result"
    }
   ],
   "source": [
    "(1<<3)&0b1111==(1<<3)&0b0000"
   ]
  },
  {
   "cell_type": "code",
   "execution_count": null,
   "metadata": {},
   "outputs": [],
   "source": [
    "counterS=0\n",
    "for num in [0]*(len(struc)-1):\n",
    "    if (1<<5)"
   ]
  },
  {
   "cell_type": "code",
   "execution_count": 46,
   "metadata": {},
   "outputs": [
    {
     "data": {
      "text/plain": [
       "'0b11111'"
      ]
     },
     "execution_count": 46,
     "metadata": {},
     "output_type": "execute_result"
    }
   ],
   "source": [
    "bin(2**5-1)"
   ]
  },
  {
   "cell_type": "code",
   "execution_count": 54,
   "metadata": {},
   "outputs": [
    {
     "name": "stdout",
     "output_type": "stream",
     "text": [
      "False\n"
     ]
    }
   ],
   "source": [
    "print(0b10101&0b10000==0b10101&0b00001)"
   ]
  },
  {
   "cell_type": "code",
   "execution_count": 55,
   "metadata": {},
   "outputs": [],
   "source": [
    "def  countSetBits(n):\n",
    "    count = 0\n",
    "    while (n):\n",
    "        count += n & 1\n",
    "        n >>= 1\n",
    "    return count"
   ]
  },
  {
   "cell_type": "code",
   "execution_count": 57,
   "metadata": {},
   "outputs": [
    {
     "data": {
      "text/plain": [
       "3"
      ]
     },
     "execution_count": 57,
     "metadata": {},
     "output_type": "execute_result"
    }
   ],
   "source": [
    "countSetBits(0b10101)"
   ]
  },
  {
   "cell_type": "code",
   "execution_count": 69,
   "metadata": {},
   "outputs": [
    {
     "ename": "TypeError",
     "evalue": "'str' object cannot be interpreted as an integer",
     "output_type": "error",
     "traceback": [
      "\u001b[1;31m---------------------------------------------------------------------------\u001b[0m",
      "\u001b[1;31mTypeError\u001b[0m                                 Traceback (most recent call last)",
      "\u001b[1;32m<ipython-input-69-7c3649234454>\u001b[0m in \u001b[0;36m<module>\u001b[1;34m\u001b[0m\n\u001b[0;32m      1\u001b[0m \u001b[0maaa\u001b[0m\u001b[1;33m=\u001b[0m\u001b[1;34m\"0b111\"\u001b[0m\u001b[1;33m\u001b[0m\u001b[1;33m\u001b[0m\u001b[0m\n\u001b[1;32m----> 2\u001b[1;33m \u001b[0mbin\u001b[0m\u001b[1;33m(\u001b[0m\u001b[0maaa\u001b[0m\u001b[1;33m)\u001b[0m\u001b[1;33m\u001b[0m\u001b[1;33m\u001b[0m\u001b[0m\n\u001b[0m",
      "\u001b[1;31mTypeError\u001b[0m: 'str' object cannot be interpreted as an integer"
     ]
    }
   ],
   "source": [
    "aaa=\"111\"\n",
    "bin(faaa)"
   ]
  },
  {
   "cell_type": "code",
   "execution_count": 70,
   "metadata": {},
   "outputs": [
    {
     "data": {
      "text/plain": [
       "3"
      ]
     },
     "execution_count": 70,
     "metadata": {},
     "output_type": "execute_result"
    }
   ],
   "source": [
    "\n",
    "aa=\"111\"\n",
    "len(aa)"
   ]
  },
  {
   "cell_type": "code",
   "execution_count": 71,
   "metadata": {},
   "outputs": [
    {
     "data": {
      "text/plain": [
       "0"
      ]
     },
     "execution_count": 71,
     "metadata": {},
     "output_type": "execute_result"
    }
   ],
   "source": [
    "int(0000)"
   ]
  },
  {
   "cell_type": "code",
   "execution_count": 73,
   "metadata": {},
   "outputs": [
    {
     "data": {
      "text/plain": [
       "'0b1010'"
      ]
     },
     "execution_count": 73,
     "metadata": {},
     "output_type": "execute_result"
    }
   ],
   "source": [
    "bin(10)"
   ]
  },
  {
   "cell_type": "code",
   "execution_count": 75,
   "metadata": {},
   "outputs": [
    {
     "data": {
      "text/plain": [
       "11"
      ]
     },
     "execution_count": 75,
     "metadata": {},
     "output_type": "execute_result"
    }
   ],
   "source": [
    "1+0b1010"
   ]
  },
  {
   "cell_type": "code",
   "execution_count": 82,
   "metadata": {},
   "outputs": [
    {
     "data": {
      "text/plain": [
       "111.1111"
      ]
     },
     "execution_count": 82,
     "metadata": {},
     "output_type": "execute_result"
    }
   ],
   "source": [
    "1000000/10**4"
   ]
  },
  {
   "cell_type": "code",
   "execution_count": 79,
   "metadata": {},
   "outputs": [
    {
     "data": {
      "text/plain": [
       "'0b1111101000'"
      ]
     },
     "execution_count": 79,
     "metadata": {},
     "output_type": "execute_result"
    }
   ],
   "source": [
    "9999"
   ]
  },
  {
   "cell_type": "code",
   "execution_count": 83,
   "metadata": {},
   "outputs": [
    {
     "data": {
      "text/plain": [
       "121"
      ]
     },
     "execution_count": 83,
     "metadata": {},
     "output_type": "execute_result"
    }
   ],
   "source": [
    "int(121.6)"
   ]
  },
  {
   "cell_type": "code",
   "execution_count": null,
   "metadata": {},
   "outputs": [],
   "source": [
    "import sys\n",
    "import math\n",
    "input = sys.stdin.readline\n",
    "a = input().split()[0]\n",
    "num = int(a)\n",
    "aLen = len(a)\n",
    "\n",
    "if aLen % 2 == 0:\n",
    "    aLenHalf = int(aLen/2)\n",
    "    haha = int(a[:aLenHalf])\n",
    "    num = int(num/(10**aLenHalf))\n",
    "    if num > haha:\n",
    "        print(num-1)\n",
    "    else:\n",
    "        print(num)\n",
    "else:\n",
    "    aLenHalf = int((aLen+1)/2)\n",
    "    print(\"9\"*aLenHalf)"
   ]
  },
  {
   "cell_type": "code",
   "execution_count": 86,
   "metadata": {},
   "outputs": [],
   "source": [
    "op={f\"{i}\":j for i,j in enumerate(\"0123456789ABCDEFGHIJKLMNOPQRSTUVWXYZ\")}"
   ]
  },
  {
   "cell_type": "code",
   "execution_count": 87,
   "metadata": {},
   "outputs": [
    {
     "data": {
      "text/plain": [
       "{'0': '0',\n",
       " '1': '1',\n",
       " '2': '2',\n",
       " '3': '3',\n",
       " '4': '4',\n",
       " '5': '5',\n",
       " '6': '6',\n",
       " '7': '7',\n",
       " '8': '8',\n",
       " '9': '9',\n",
       " '10': 'A',\n",
       " '11': 'B',\n",
       " '12': 'C',\n",
       " '13': 'D',\n",
       " '14': 'E',\n",
       " '15': 'F',\n",
       " '16': 'G',\n",
       " '17': 'H',\n",
       " '18': 'I',\n",
       " '19': 'J',\n",
       " '20': 'K',\n",
       " '21': 'L',\n",
       " '22': 'M',\n",
       " '23': 'N',\n",
       " '24': 'O',\n",
       " '25': 'P',\n",
       " '26': 'Q',\n",
       " '27': 'R',\n",
       " '28': 'S',\n",
       " '29': 'T',\n",
       " '30': 'U',\n",
       " '31': 'V',\n",
       " '32': 'W',\n",
       " '33': 'X',\n",
       " '34': 'Y',\n",
       " '35': 'Z'}"
      ]
     },
     "execution_count": 87,
     "metadata": {},
     "output_type": "execute_result"
    }
   ],
   "source": [
    "op"
   ]
  },
  {
   "cell_type": "code",
   "execution_count": null,
   "metadata": {},
   "outputs": [],
   "source": []
  }
 ],
 "metadata": {
  "kernelspec": {
   "display_name": "Python 3",
   "language": "python",
   "name": "python3"
  },
  "language_info": {
   "codemirror_mode": {
    "name": "ipython",
    "version": 3
   },
   "file_extension": ".py",
   "mimetype": "text/x-python",
   "name": "python",
   "nbconvert_exporter": "python",
   "pygments_lexer": "ipython3",
   "version": "3.8.5"
  },
  "varInspector": {
   "cols": {
    "lenName": 16,
    "lenType": 16,
    "lenVar": 40
   },
   "kernels_config": {
    "python": {
     "delete_cmd_postfix": "",
     "delete_cmd_prefix": "del ",
     "library": "var_list.py",
     "varRefreshCmd": "print(var_dic_list())"
    },
    "r": {
     "delete_cmd_postfix": ") ",
     "delete_cmd_prefix": "rm(",
     "library": "var_list.r",
     "varRefreshCmd": "cat(var_dic_list()) "
    }
   },
   "position": {
    "height": "310.4px",
    "left": "654px",
    "right": "20px",
    "top": "120px",
    "width": "350px"
   },
   "types_to_exclude": [
    "module",
    "function",
    "builtin_function_or_method",
    "instance",
    "_Feature"
   ],
   "window_display": false
  }
 },
 "nbformat": 4,
 "nbformat_minor": 4
}
